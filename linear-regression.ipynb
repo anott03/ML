{
 "cells": [
  {
   "cell_type": "markdown",
   "metadata": {
    "id": "iwk8tJHKlH8t"
   },
   "source": [
    "# Linear Regression\n",
    "Linear regression is an algorithm that attempts to find the best line to fit some given data. For the sake of simplicity, we assume that the line passes through the origin, so we only need to determine the slope."
   ]
  },
  {
   "cell_type": "code",
   "execution_count": 135,
   "metadata": {
    "_cell_guid": "b1076dfc-b9ad-4769-8c92-a6c4dae69d19",
    "_uuid": "8f2839f25d086af736a60e9eeb907d3b93b6e0e5",
    "id": "bLcowWlelH8v"
   },
   "outputs": [],
   "source": [
    "# import libraries\n",
    "import numpy as np\n",
    "import matplotlib.pyplot as plt"
   ]
  },
  {
   "cell_type": "markdown",
   "metadata": {
    "id": "JO-nM5yDlH8w"
   },
   "source": [
    "## Gradient Descent\n",
    "Gradient descent is the algorithm this implementation of linear regression uses to try and determine the slope (theta) of the line. For a given number of iterations, it tests a value of theta and determines how accurate or inaccurate that theta was. Based on that information, it updates the value of theta.\n",
    "+ `X` is the matrix of inputs\n",
    "+ `y` is the matrix of expected ouputs\n",
    "+ `initial_theta` is the slope we start with and add/subtract to\n",
    "+ `alpha` is the order of magnitude by which we increment theta\n",
    "+ `interations` is how many times we should perform gradient descenet before stopping (otherwise it could run forever)\n"
   ]
  },
  {
   "cell_type": "code",
   "execution_count": 136,
   "metadata": {
    "id": "xMAYTQu2lH8y"
   },
   "outputs": [],
   "source": [
    "def gradient_descent(X: np.ndarray, y: np.ndarray,\n",
    "                     inital_theta, alpha: float, iterations: int) -> float:\n",
    "    \n",
    "    theta = inital_theta # theta[0] = slope; theta[1] = y-intercept\n",
    "    m = len(y)\n",
    "    for _ in range(iterations):\n",
    "        arr = np.zeros((2, m))\n",
    "        for i in range(m):\n",
    "            # difference between calculated and actual (the error)\n",
    "            arr[0, i] = (theta[0] + theta[1] * X[i][1]) - y[i]\n",
    "            arr[1, i] = np.dot(((theta[0] + theta[1] * X[i][1]) - y[i]), X[i][1])\n",
    "\n",
    "        theta[0] -= alpha/m * sum(arr[0, :])\n",
    "        theta[1] -= alpha/m * sum(arr[1, :])\n",
    "            \n",
    "    return theta"
   ]
  },
  {
   "cell_type": "markdown",
   "metadata": {
    "id": "D-CGh0s5lH8z"
   },
   "source": [
    "## Putting it Together\n",
    "This function takes in some training data and use the gradient descent function we defined above to determine the slope. Then it plots the prediction and the training data so that we can visually see how accurate the line is."
   ]
  },
  {
   "cell_type": "code",
   "execution_count": 137,
   "metadata": {
    "id": "_6FSWnHulH8z"
   },
   "outputs": [],
   "source": [
    "def linear_regression(train_X: np.ndarray, train_y: np.ndarray, X: np.ndarray,\n",
    "                      inital_theta: float = [1, 1], alpha: float = 0.01, iterations: int = 200) -> None:\n",
    "    \n",
    "    _train_X = [ [1, x] for x in train_X ]\n",
    "    _X = [ [1, x] for x in X ]\n",
    "    \n",
    "    theta = gradient_descent(_train_X, train_y, inital_theta, alpha, iterations)\n",
    "    prediction = np.dot(_X, theta)\n",
    "    \n",
    "    plt.plot(X, prediction)\n",
    "    plt.scatter(train_X, train_y)\n",
    "    plt.show()\n",
    "    return theta"
   ]
  },
  {
   "cell_type": "markdown",
   "metadata": {
    "id": "GUwEZzqRlH80"
   },
   "source": [
    "## Testing It\n",
    "Here we define some training data and call the `linear_regression` function."
   ]
  },
  {
   "cell_type": "code",
   "execution_count": 140,
   "metadata": {
    "colab": {
     "base_uri": "https://localhost:8080/",
     "height": 550
    },
    "id": "RklPcHuNlH80",
    "outputId": "03aaf105-cdd2-4505-b7eb-d50a66a608e0"
   },
   "outputs": [
    {
     "data": {
      "image/png": "[encoded data removed]",
      "text/plain": [
       "<Figure size 432x288 with 1 Axes>"
      ]
     },
     "metadata": {
      "needs_background": "light"
     },
     "output_type": "display_data"
    },
    {
     "data": {
      "text/plain": [
       "[-1.4702443755546697, 3.4723513249768474]"
      ]
     },
     "execution_count": 140,
     "metadata": {},
     "output_type": "execute_result"
    }
   ],
   "source": [
    "# this data is perfectly linear, so regression should be able to fit to it perfectly\n",
    "# train_X1 = np.array([\n",
    "#     0, 20, 40, 60, 80, 100, 120, 140, 160, 180, 200\n",
    "# ])\n",
    "# train_y1 = np.array([\n",
    "#     0, 20, 40, 60, 80, 100, 120, 140, 160, 180, 200\n",
    "# ])\n",
    "\n",
    "# theta1 = linear_regression(train_X1, train_y1, np.array(range(200)), iterations=1000)\n",
    "# print(theta1) # this should print 1 for a perfict fit\n",
    "\n",
    "# # this data is not perfectly linear, so there isn't a perfect fit\n",
    "# train_X2 = np.array([\n",
    "#     0, 20, 40, 60, 80, 100, 120, 140, 160, 180, 200\n",
    "# ])\n",
    "# train_y2 = np.array([\n",
    "#     0, 40, 60, 0, 80, 150, 100, 180, 160, 170, 300\n",
    "# ])\n",
    "\n",
    "# theta2 = linear_regression(train_X2, train_y2, np.array(range(200)), iterations=1000, alpha=0.01)\n",
    "# print(theta2)\n",
    "\n",
    "# train_X1 = np.array([\n",
    "#     0, 20, 40, 60, 80, 100, 120, 140, 160, 180, 200\n",
    "# ])\n",
    "# train_y1 = np.array([\n",
    "#     20, 40, 60, 80, 100, 120, 140, 160, 180, 200, 220\n",
    "# ])\n",
    "\n",
    "train_X1 = np.array([0, 1, 2, 3, 4, 5])\n",
    "train_y1 = np.array([0, 2, 6, 5, 10, 20])\n",
    "\n",
    "linear_regression(train_X1, train_y1, train_X1, iterations=1000)"
   ]
  },
  {
   "cell_type": "markdown",
   "metadata": {
    "id": "4KSvzTHeEypC"
   },
   "source": [
    "## Predicting\n",
    "Now that our model has determined theta, we can use it to predict the output for values not in our training data. We will use `theta2`."
   ]
  },
  {
   "cell_type": "code",
   "execution_count": 126,
   "metadata": {
    "colab": {
     "base_uri": "https://localhost:8080/"
    },
    "id": "atvW1zEuFCve",
    "outputId": "3c905de1-4afb-4ba6-a000-9f8009341c3c"
   },
   "outputs": [],
   "source": [
    "# unseen_data = np.array([\n",
    "#   -10, -20, 0, 7, 100, 300, 46, 223\n",
    "# ])\n",
    "# results = np.dot(unseen_data, theta2)\n",
    "\n",
    "# # a loop to print the resultsi\n",
    "# for result in results:\n",
    "#   print(result)"
   ]
  },
  {
   "cell_type": "code",
   "execution_count": null,
   "metadata": {},
   "outputs": [],
   "source": []
  }
 ],
 "metadata": {
  "colab": {
   "name": "linear-regression.ipynb",
   "provenance": []
  },
  "kernelspec": {
   "display_name": "Python 3",
   "language": "python",
   "name": "python3"
  },
  "language_info": {
   "codemirror_mode": {
    "name": "ipython",
    "version": 3
   },
   "file_extension": ".py",
   "mimetype": "text/x-python",
   "name": "python",
   "nbconvert_exporter": "python",
   "pygments_lexer": "ipython3",
   "version": "3.8.5"
  }
 },
 "nbformat": 4,
 "nbformat_minor": 4
}
